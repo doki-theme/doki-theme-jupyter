{
 "cells": [
  {
   "cell_type": "code",
   "execution_count": 9,
   "id": "senior-interview",
   "metadata": {},
   "outputs": [],
   "source": [
    "import dokitheme as dt"
   ]
  },
  {
   "cell_type": "code",
   "execution_count": 10,
   "id": "subsequent-italy",
   "metadata": {},
   "outputs": [
    {
     "name": "stdout",
     "output_type": "stream",
     "text": [
      "usage: dokitheme [-h] [-l] [-t theme] [-f] [-uf] [-u]\r\n",
      "\r\n",
      "optional arguments:\r\n",
      "  -h, --help            show this help message and exit\r\n",
      "  -l, --list            list available themes\r\n",
      "  -t theme, --set-theme theme\r\n",
      "                        name of theme to install\r\n",
      "  -f, --set-font        install official doki theme font\r\n",
      "  -uf, -rf, --remove-font, --uninstall-font\r\n",
      "                        uninstalls official doki theme font\r\n",
      "  -u, -r, --remove, --uninstall\r\n",
      "                        restores previous styling\r\n"
     ]
    }
   ],
   "source": [
    "!python3 dokitheme --help"
   ]
  },
  {
   "cell_type": "code",
   "execution_count": 11,
   "id": "packed-stereo",
   "metadata": {},
   "outputs": [
    {
     "name": "stdout",
     "output_type": "stream",
     "text": [
      "Available Themes: \r\n",
      "   BunnySenpai: Mai Dark\r\n",
      "   BunnySenpai: Mai Light\r\n",
      "   DDLC: Monika Dark\r\n",
      "   DDLC: Monika Light\r\n",
      "   DDLC: Natsuki Dark\r\n",
      "   DDLC: Natsuki Light\r\n",
      "   DDLC: Sayori Dark\r\n",
      "   DDLC: Sayori Light\r\n",
      "   DDLC: Yuri Dark\r\n",
      "   DDLC: Yuri Light\r\n",
      "   DM: Kanna\r\n",
      "   DR: Mioda Ibuki Dark\r\n",
      "   DR: Mioda Ibuki Light\r\n",
      "   DxD: Rias\r\n",
      "   EVA: Katsuragi Misato\r\n",
      "   Fate: Ishtar Dark\r\n",
      "   Fate: Ishtar Light\r\n",
      "   Fate: Tohsaka Rin\r\n",
      "   Franxx: Zero Two Dark\r\n",
      "   Franxx: Zero Two Light\r\n",
      "   Gate: Rory Mercury\r\n",
      "   KillLaKill: Ryuko\r\n",
      "   KillLaKill: Satsuki\r\n",
      "   KonoSuba: Aqua\r\n",
      "   KonoSuba: Darkness Dark\r\n",
      "   KonoSuba: Darkness Light\r\n",
      "   KonoSuba: Megumin\r\n",
      "   Love Live: Sonoda Umi\r\n",
      "   LS: Konata\r\n",
      "   Misc: Hatsune Miku\r\n",
      "   OreGairu: Yukinoshita Yukino\r\n",
      "   Re:Zero: Beatrice\r\n",
      "   Re:Zero: Echidna\r\n",
      "   Re:Zero: Emilia Dark\r\n",
      "   Re:Zero: Emilia Light\r\n",
      "   Re:Zero: Ram\r\n",
      "   Re:Zero: Rem\r\n",
      "   SAO: Asuna Dark\r\n",
      "   SAO: Asuna Light\r\n",
      "   Steins Gate: Makise Kurisu\r\n"
     ]
    }
   ],
   "source": [
    "!python3 dokitheme --list"
   ]
  },
  {
   "cell_type": "code",
   "execution_count": 12,
   "id": "speaking-shame",
   "metadata": {},
   "outputs": [
    {
     "name": "stdout",
     "output_type": "stream",
     "text": [
      "finna remove\r\n"
     ]
    }
   ],
   "source": [
    "!python3 dokitheme --remove"
   ]
  },
  {
   "cell_type": "code",
   "execution_count": 13,
   "id": "working-armstrong",
   "metadata": {},
   "outputs": [
    {
     "name": "stdout",
     "output_type": "stream",
     "text": [
      "Bro what am I supposed to do with this: bruh?\r\n"
     ]
    }
   ],
   "source": [
    "!python3 dokitheme --set-theme bruh"
   ]
  },
  {
   "cell_type": "code",
   "execution_count": 14,
   "id": "reflected-evanescence",
   "metadata": {},
   "outputs": [
    {
     "name": "stdout",
     "output_type": "stream",
     "text": [
      "Finna install Re:Zero: Rem\r\n"
     ]
    }
   ],
   "source": [
    "!python3 dokitheme --set-theme \"Re:Zero: Rem\""
   ]
  },
  {
   "cell_type": "code",
   "execution_count": null,
   "id": "statewide-forestry",
   "metadata": {},
   "outputs": [],
   "source": []
  }
 ],
 "metadata": {
  "kernelspec": {
   "display_name": "Python 3",
   "language": "python",
   "name": "python3"
  },
  "language_info": {
   "codemirror_mode": {
    "name": "ipython",
    "version": 3
   },
   "file_extension": ".py",
   "mimetype": "text/x-python",
   "name": "python",
   "nbconvert_exporter": "python",
   "pygments_lexer": "ipython3",
   "version": "3.7.3"
  }
 },
 "nbformat": 4,
 "nbformat_minor": 5
}
