{
 "cells": [
  {
   "cell_type": "code",
   "execution_count": 115,
   "id": "medieval-venice",
   "metadata": {},
   "outputs": [],
   "source": [
    "import dokitheme as dt"
   ]
  },
  {
   "cell_type": "code",
   "execution_count": 116,
   "id": "herbal-carrier",
   "metadata": {},
   "outputs": [
    {
     "name": "stdout",
     "output_type": "stream",
     "text": [
      "usage: dokitheme [-h] [-l] [-t theme] [-f] [-uf] [-u]\r\n",
      "\r\n",
      "optional arguments:\r\n",
      "  -h, --help            show this help message and exit\r\n",
      "  -l, --list            list available themes\r\n",
      "  -t theme, --set-theme theme\r\n",
      "                        name of theme to install\r\n",
      "  -f, --set-font        install official doki theme font\r\n",
      "  -uf, -rf, --remove-font, --uninstall-font\r\n",
      "                        uninstalls official doki theme font\r\n",
      "  -u, -r, --remove, --uninstall\r\n",
      "                        restores previous styling\r\n"
     ]
    }
   ],
   "source": [
    "!python3 dokitheme --help"
   ]
  },
  {
   "cell_type": "code",
   "execution_count": 117,
   "id": "successful-thesis",
   "metadata": {},
   "outputs": [
    {
     "name": "stdout",
     "output_type": "stream",
     "text": [
      "Theme Names (include double quotes): \r\n",
      "   \"BunnySenpai: Mai Dark\"\r\n",
      "   \"BunnySenpai: Mai Light\"\r\n",
      "   \"DR: Mioda Ibuki Dark\"\r\n",
      "   \"DR: Mioda Ibuki Light\"\r\n",
      "   \"DM: Kanna\"\r\n",
      "   \"EVA: Katsuragi Misato\"\r\n",
      "   \"Fate: Ishtar Dark\"\r\n",
      "   \"Fate: Ishtar Light\"\r\n",
      "   \"Fate: Tohsaka Rin\"\r\n",
      "   \"Franxx: Zero Two Dark\"\r\n",
      "   \"Franxx: Zero Two Light\"\r\n",
      "   \"Gate: Rory Mercury\"\r\n",
      "   \"DxD: Rias\"\r\n",
      "   \"KillLaKill: Ryuko\"\r\n",
      "   \"KillLaKill: Satsuki\"\r\n",
      "   \"KonoSuba: Aqua\"\r\n",
      "   \"KonoSuba: Darkness Dark\"\r\n",
      "   \"KonoSuba: Darkness Light\"\r\n",
      "   \"KonoSuba: Megumin\"\r\n",
      "   \"DDLC: Monika Dark\"\r\n",
      "   \"DDLC: Monika Light\"\r\n",
      "   \"DDLC: Natsuki Dark\"\r\n",
      "   \"DDLC: Natsuki Light\"\r\n",
      "   \"DDLC: Sayori Dark\"\r\n",
      "   \"DDLC: Sayori Light\"\r\n",
      "   \"DDLC: Yuri Dark\"\r\n",
      "   \"DDLC: Yuri Light\"\r\n",
      "   \"Love Live: Sonoda Umi\"\r\n",
      "   \"LS: Konata\"\r\n",
      "   \"Misc: Hatsune Miku\"\r\n",
      "   \"OreGairu: Yukinoshita Yukino\"\r\n",
      "   \"Re:Zero: Beatrice\"\r\n",
      "   \"Re:Zero: Echidna\"\r\n",
      "   \"Re:Zero: Emilia Dark\"\r\n",
      "   \"Re:Zero: Emilia Light\"\r\n",
      "   \"Re:Zero: Ram\"\r\n",
      "   \"Re:Zero: Rem\"\r\n",
      "   \"Steins Gate: Makise Kurisu\"\r\n",
      "   \"SAO: Asuna Dark\"\r\n",
      "   \"SAO: Asuna Light\"\r\n"
     ]
    }
   ],
   "source": [
    "!python3 dokitheme --list"
   ]
  },
  {
   "cell_type": "code",
   "execution_count": 134,
   "id": "intensive-collins",
   "metadata": {},
   "outputs": [
    {
     "name": "stdout",
     "output_type": "stream",
     "text": [
      "Removed themes, see you later friend!\r\n",
      "Refresh your browser to see changes.\r\n"
     ]
    }
   ],
   "source": [
    "!python3 dokitheme --remove"
   ]
  },
  {
   "cell_type": "code",
   "execution_count": 123,
   "id": "impressive-stretch",
   "metadata": {},
   "outputs": [
    {
     "name": "stdout",
     "output_type": "stream",
     "text": [
      "Unknown Theme \"Ryuko\", did you mean \"KillLaKill: Ryuko\" ?\r\n"
     ]
    }
   ],
   "source": [
    "!python3 dokitheme --set-theme \"Ryuko\""
   ]
  },
  {
   "cell_type": "code",
   "execution_count": 124,
   "id": "collaborative-championship",
   "metadata": {},
   "outputs": [
    {
     "name": "stdout",
     "output_type": "stream",
     "text": [
      "Unknown Theme \"Rem\", did you mean \"Re:Zero: Rem\" ?\r\n"
     ]
    }
   ],
   "source": [
    "!python3 dokitheme --set-theme \"Rem\""
   ]
  },
  {
   "cell_type": "code",
   "execution_count": 147,
   "id": "radio-semester",
   "metadata": {},
   "outputs": [
    {
     "name": "stdout",
     "output_type": "stream",
     "text": [
      "I installed \"Re:Zero: Rem\" refresh your browser to see changes!\r\n"
     ]
    }
   ],
   "source": [
    "!python3 dokitheme --set-theme \"Re:Zero: Rem\""
   ]
  },
  {
   "cell_type": "code",
   "execution_count": null,
   "id": "plain-arena",
   "metadata": {},
   "outputs": [],
   "source": []
  }
 ],
 "metadata": {
  "kernelspec": {
   "display_name": "Python 3",
   "language": "python",
   "name": "python3"
  },
  "language_info": {
   "codemirror_mode": {
    "name": "ipython",
    "version": 3
   },
   "file_extension": ".py",
   "mimetype": "text/x-python",
   "name": "python",
   "nbconvert_exporter": "python",
   "pygments_lexer": "ipython3",
   "version": "3.7.3"
  }
 },
 "nbformat": 4,
 "nbformat_minor": 5
}
