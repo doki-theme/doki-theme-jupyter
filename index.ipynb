{
 "cells": [
  {
   "cell_type": "code",
   "execution_count": 7,
   "id": "public-trader",
   "metadata": {},
   "outputs": [],
   "source": [
    "import dokitheme as dt"
   ]
  },
  {
   "cell_type": "code",
   "execution_count": 34,
   "id": "color-breakdown",
   "metadata": {},
   "outputs": [
    {
     "name": "stdout",
     "output_type": "stream",
     "text": [
      "usage: dokitheme [-h] [-l] [-t theme] [-f] [-uf] [-u]\r\n",
      "\r\n",
      "optional arguments:\r\n",
      "  -h, --help            show this help message and exit\r\n",
      "  -l, --list            list available themes\r\n",
      "  -t theme, --set-theme theme\r\n",
      "                        name of theme to install\r\n",
      "  -f, --set-font        install official doki theme font\r\n",
      "  -uf, -rf, --remove-font, --uninstall-font\r\n",
      "                        uninstalls official doki theme font\r\n",
      "  -u, -r, --remove, --uninstall\r\n",
      "                        restores previous styling\r\n"
     ]
    }
   ],
   "source": [
    "!python3 dokitheme --help"
   ]
  },
  {
   "cell_type": "code",
   "execution_count": 38,
   "id": "photographic-wireless",
   "metadata": {},
   "outputs": [
    {
     "name": "stdout",
     "output_type": "stream",
     "text": [
      "['Zero Two', 'Ryuko', 'Aqua', 'Ishtar', 'Rin']\r\n"
     ]
    }
   ],
   "source": [
    "!python3 dokitheme --list"
   ]
  },
  {
   "cell_type": "code",
   "execution_count": null,
   "id": "racial-cleveland",
   "metadata": {},
   "outputs": [],
   "source": []
  }
 ],
 "metadata": {
  "kernelspec": {
   "display_name": "Python 3",
   "language": "python",
   "name": "python3"
  },
  "language_info": {
   "codemirror_mode": {
    "name": "ipython",
    "version": 3
   },
   "file_extension": ".py",
   "mimetype": "text/x-python",
   "name": "python",
   "nbconvert_exporter": "python",
   "pygments_lexer": "ipython3",
   "version": "3.7.3"
  }
 },
 "nbformat": 4,
 "nbformat_minor": 5
}
