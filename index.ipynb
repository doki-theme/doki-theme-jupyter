{
 "cells": [
  {
   "cell_type": "code",
   "execution_count": 9,
   "id": "female-awareness",
   "metadata": {},
   "outputs": [],
   "source": [
    "import dokitheme as dt"
   ]
  },
  {
   "cell_type": "code",
   "execution_count": 117,
   "id": "lightweight-society",
   "metadata": {
    "scrolled": true
   },
   "outputs": [
    {
     "name": "stdout",
     "output_type": "stream",
     "text": [
      "Theme Names (include double quotes): \r\n",
      "   \"BunnySenpai: Mai Dark\"\r\n",
      "   \"BunnySenpai: Mai Light\"\r\n",
      "   \"DR: Mioda Ibuki Dark\"\r\n",
      "   \"DR: Mioda Ibuki Light\"\r\n",
      "   \"DM: Kanna\"\r\n",
      "   \"EVA: Katsuragi Misato\"\r\n",
      "   \"Fate: Ishtar Dark\"\r\n",
      "   \"Fate: Ishtar Light\"\r\n",
      "   \"Fate: Tohsaka Rin\"\r\n",
      "   \"Franxx: Zero Two Dark\"\r\n",
      "   \"Franxx: Zero Two Light\"\r\n",
      "   \"Gate: Rory Mercury\"\r\n",
      "   \"DxD: Rias\"\r\n",
      "   \"KillLaKill: Ryuko\"\r\n",
      "   \"KillLaKill: Satsuki\"\r\n",
      "   \"KonoSuba: Aqua\"\r\n",
      "   \"KonoSuba: Darkness Dark\"\r\n",
      "   \"KonoSuba: Darkness Light\"\r\n",
      "   \"KonoSuba: Megumin\"\r\n",
      "   \"DDLC: Monika Dark\"\r\n",
      "   \"DDLC: Monika Light\"\r\n",
      "   \"DDLC: Natsuki Dark\"\r\n",
      "   \"DDLC: Natsuki Light\"\r\n",
      "   \"DDLC: Sayori Dark\"\r\n",
      "   \"DDLC: Sayori Light\"\r\n",
      "   \"DDLC: Yuri Dark\"\r\n",
      "   \"DDLC: Yuri Light\"\r\n",
      "   \"Love Live: Sonoda Umi\"\r\n",
      "   \"LS: Konata\"\r\n",
      "   \"Misc: Hatsune Miku\"\r\n",
      "   \"OreGairu: Yukinoshita Yukino\"\r\n",
      "   \"Re:Zero: Beatrice\"\r\n",
      "   \"Re:Zero: Echidna\"\r\n",
      "   \"Re:Zero: Emilia Dark\"\r\n",
      "   \"Re:Zero: Emilia Light\"\r\n",
      "   \"Re:Zero: Ram\"\r\n",
      "   \"Re:Zero: Rem\"\r\n",
      "   \"Steins Gate: Makise Kurisu\"\r\n",
      "   \"SAO: Asuna Dark\"\r\n",
      "   \"SAO: Asuna Light\"\r\n"
     ]
    }
   ],
   "source": [
    "!python3 dokitheme --list"
   ]
  },
  {
   "cell_type": "code",
   "execution_count": 2,
   "id": "sweet-committee",
   "metadata": {},
   "outputs": [
    {
     "name": "stdout",
     "output_type": "stream",
     "text": [
      "Removed themes, see you later friend!\r\n",
      "Refresh your browser to see changes.\r\n"
     ]
    }
   ],
   "source": [
    "!python3 dokitheme --remove"
   ]
  },
  {
   "cell_type": "code",
   "execution_count": 116,
   "id": "related-rhythm",
   "metadata": {
    "scrolled": false
   },
   "outputs": [
    {
     "name": "stdout",
     "output_type": "stream",
     "text": [
      "usage: dokitheme [-h] [-l] [-t theme] [-f] [-uf] [-u]\r\n",
      "\r\n",
      "optional arguments:\r\n",
      "  -h, --help            show this help message and exit\r\n",
      "  -l, --list            list available themes\r\n",
      "  -t theme, --set-theme theme\r\n",
      "                        name of theme to install\r\n",
      "  -f, --set-font        install official doki theme font\r\n",
      "  -uf, -rf, --remove-font, --uninstall-font\r\n",
      "                        uninstalls official doki theme font\r\n",
      "  -u, -r, --remove, --uninstall\r\n",
      "                        restores previous styling\r\n"
     ]
    }
   ],
   "source": [
    "!python3 dokitheme --help"
   ]
  },
  {
   "cell_type": "code",
   "execution_count": 10,
   "id": "sustainable-posting",
   "metadata": {},
   "outputs": [
    {
     "name": "stdout",
     "output_type": "stream",
     "text": [
      "Unknown Theme \"Ryuko\", did you mean \"KillLaKill: Ryuko\" ?\r\n"
     ]
    }
   ],
   "source": [
    "!python3 dokitheme --set-theme \"Ryuko\""
   ]
  },
  {
   "cell_type": "code",
   "execution_count": 154,
   "id": "demonstrated-leather",
   "metadata": {},
   "outputs": [
    {
     "name": "stdout",
     "output_type": "stream",
     "text": [
      "Unknown Theme \"Rem\", did you mean \"Re:Zero: Rem\" ?\r\n"
     ]
    }
   ],
   "source": [
    "!python3 dokitheme --set-theme \"Rem\""
   ]
  },
  {
   "cell_type": "code",
   "execution_count": 5,
   "id": "social-booth",
   "metadata": {},
   "outputs": [
    {
     "name": "stdout",
     "output_type": "stream",
     "text": [
      "I installed \"Re:Zero: Rem\" refresh your browser to see changes!\r\n"
     ]
    }
   ],
   "source": [
    "!python3 dokitheme --set-theme \"Re:Zero: Rem\""
   ]
  },
  {
   "cell_type": "code",
   "execution_count": 11,
   "id": "noted-longer",
   "metadata": {},
   "outputs": [
    {
     "name": "stdout",
     "output_type": "stream",
     "text": [
      "I installed \"KillLaKill: Ryuko\" refresh your browser to see changes!\r\n"
     ]
    }
   ],
   "source": [
    "!python3 dokitheme --set-theme \"KillLaKill: Ryuko\""
   ]
  },
  {
   "cell_type": "code",
   "execution_count": 16,
   "id": "relative-professor",
   "metadata": {},
   "outputs": [
    {
     "name": "stdout",
     "output_type": "stream",
     "text": [
      "I installed \"LS: Konata\" refresh your browser to see changes!\r\n"
     ]
    }
   ],
   "source": [
    "!python3 dokitheme --set-theme \"LS: Konata\""
   ]
  },
  {
   "cell_type": "code",
   "execution_count": 67,
   "id": "functioning-slovak",
   "metadata": {},
   "outputs": [
    {
     "name": "stdout",
     "output_type": "stream",
     "text": [
      "I installed \"Franxx: Zero Two Light\" refresh your browser to see changes!\r\n"
     ]
    }
   ],
   "source": [
    "!python3 dokitheme --set-theme \"Franxx: Zero Two Light\""
   ]
  },
  {
   "cell_type": "code",
   "execution_count": 1,
   "id": "disabled-alloy",
   "metadata": {},
   "outputs": [],
   "source": [
    "%matplotlib inline\n",
    "from fastai.basics import *"
   ]
  },
  {
   "cell_type": "code",
   "execution_count": 2,
   "id": "educational-large",
   "metadata": {},
   "outputs": [],
   "source": [
    "n=100"
   ]
  },
  {
   "cell_type": "code",
   "execution_count": 3,
   "id": "welsh-cemetery",
   "metadata": {},
   "outputs": [
    {
     "data": {
      "text/plain": [
       "tensor([[ 0.5395,  1.0000,  1.0000,  1.0000],\n",
       "        [ 0.4819,  1.0000,  1.0000,  1.0000],\n",
       "        [ 0.1220,  1.0000,  1.0000,  1.0000],\n",
       "        [-0.2631,  1.0000,  1.0000,  1.0000],\n",
       "        [ 0.6664,  1.0000,  1.0000,  1.0000]])"
      ]
     },
     "execution_count": 3,
     "metadata": {},
     "output_type": "execute_result"
    }
   ],
   "source": [
    "x = torch.ones(n,4) \n",
    "x[:,0].uniform_(-1.,1)\n",
    "x[:5]"
   ]
  },
  {
   "cell_type": "code",
   "execution_count": 4,
   "id": "numeric-citizenship",
   "metadata": {},
   "outputs": [],
   "source": [
    "x = torch.index_select(x, 1, torch.tensor([0,0,0,2]))"
   ]
  },
  {
   "cell_type": "code",
   "execution_count": 5,
   "id": "adjacent-hindu",
   "metadata": {},
   "outputs": [
    {
     "data": {
      "text/plain": [
       "tensor([[ 0.4711, -0.5822,  0.5395,  1.0000],\n",
       "        [ 0.3358, -0.4645,  0.4819,  1.0000],\n",
       "        [ 0.0054, -0.0298,  0.1220,  1.0000],\n",
       "        [-0.0546, -0.1384, -0.2631,  1.0000],\n",
       "        [ 0.8877, -0.8881,  0.6664,  1.0000]])"
      ]
     },
     "execution_count": 5,
     "metadata": {},
     "output_type": "execute_result"
    }
   ],
   "source": [
    "x[:,0].apply_(lambda a: 3*a**3)\n",
    "x[:,1].apply_(lambda a: -2*a**2)\n",
    "x[:5]"
   ]
  },
  {
   "cell_type": "code",
   "execution_count": 6,
   "id": "radical-christopher",
   "metadata": {},
   "outputs": [
    {
     "data": {
      "text/plain": [
       "tensor([3., 1., 2., 4.])"
      ]
     },
     "execution_count": 6,
     "metadata": {},
     "output_type": "execute_result"
    }
   ],
   "source": [
    "a = tensor(3.,1.,2.,4.); a"
   ]
  },
  {
   "cell_type": "code",
   "execution_count": 7,
   "id": "former-study",
   "metadata": {},
   "outputs": [],
   "source": [
    "y = x@a + torch.rand(n)"
   ]
  },
  {
   "cell_type": "code",
   "execution_count": 8,
   "id": "nominated-yield",
   "metadata": {},
   "outputs": [],
   "source": [
    "from dokitheme import plotter_decorator\n",
    "from cycler import cycler"
   ]
  },
  {
   "cell_type": "code",
   "execution_count": 9,
   "id": "statutory-pacific",
   "metadata": {},
   "outputs": [],
   "source": [
    "plotter_decorator.decorate_plotter()"
   ]
  },
  {
   "cell_type": "code",
   "execution_count": 73,
   "id": "accessible-rental",
   "metadata": {},
   "outputs": [],
   "source": [
    "plt.rcParams.update({\n",
    "    'axes.facecolor':'#282a2f',\n",
    "    'axes.edgecolor': '#282a2f',# header color\n",
    "    'axes.prop_cycle': cycler(color=[\n",
    "        '#84D0FF', #editor accent\n",
    "        \"#9DACF6\",\n",
    "\"#BD84DD\",\n",
    "\"#F6E3CC\",\n",
    "\"#ead979\",\n",
    "\"#e0474b\",\n",
    "    ])\n",
    "})"
   ]
  },
  {
   "cell_type": "code",
   "execution_count": 10,
   "id": "nuclear-nightlife",
   "metadata": {
    "scrolled": true
   },
   "outputs": [
    {
     "data": {
      "image/png": "[encoded data removed]",
      "text/plain": [
       "<Figure size 432x288 with 1 Axes>"
      ]
     },
     "metadata": {
      "needs_background": "light"
     },
     "output_type": "display_data"
    }
   ],
   "source": [
    "plt.scatter(x[:,2], y);"
   ]
  },
  {
   "cell_type": "code",
   "execution_count": 11,
   "id": "mexican-guinea",
   "metadata": {},
   "outputs": [],
   "source": [
    "def mse(y_hat, y): return ((y_hat-y)**2).mean()"
   ]
  },
  {
   "cell_type": "code",
   "execution_count": 12,
   "id": "aboriginal-found",
   "metadata": {},
   "outputs": [],
   "source": [
    "a = tensor(-1.,1,-1,1)"
   ]
  },
  {
   "cell_type": "code",
   "execution_count": 13,
   "id": "fewer-insulation",
   "metadata": {},
   "outputs": [
    {
     "data": {
      "text/plain": [
       "tensor(62.2718)"
      ]
     },
     "execution_count": 13,
     "metadata": {},
     "output_type": "execute_result"
    }
   ],
   "source": [
    "y_hat = x@a\n",
    "mse(y_hat, y)"
   ]
  },
  {
   "cell_type": "code",
   "execution_count": 14,
   "id": "important-phrase",
   "metadata": {},
   "outputs": [
    {
     "data": {
      "image/png": "[encoded data removed]",
      "text/plain": [
       "<Figure size 432x288 with 1 Axes>"
      ]
     },
     "metadata": {
      "needs_background": "light"
     },
     "output_type": "display_data"
    }
   ],
   "source": [
    "plt.scatter(x[:,2],y)\n",
    "plt.scatter(x[:,2],y_hat);\n",
    "plt.scatter(x[:,1],y_hat);\n",
    "plt.scatter(x[:,3],y_hat);\n",
    "plt.scatter(x[:,0],y_hat);"
   ]
  },
  {
   "cell_type": "code",
   "execution_count": 15,
   "id": "sufficient-masters",
   "metadata": {},
   "outputs": [
    {
     "data": {
      "image/png": "[encoded data removed]",
      "text/plain": [
       "<Figure size 432x288 with 1 Axes>"
      ]
     },
     "metadata": {
      "needs_background": "light"
     },
     "output_type": "display_data"
    }
   ],
   "source": [
    "plt.figure(linewidth=2)\n",
    "plt.plot([1,2,3])\n",
    "plt.savefig('test.png', edgecolor='r', facecolor='g')"
   ]
  },
  {
   "cell_type": "code",
   "execution_count": null,
   "id": "decent-apache",
   "metadata": {},
   "outputs": [],
   "source": []
  }
 ],
 "metadata": {
  "kernelspec": {
   "display_name": "Python 3",
   "language": "python",
   "name": "python3"
  },
  "language_info": {
   "codemirror_mode": {
    "name": "ipython",
    "version": 3
   },
   "file_extension": ".py",
   "mimetype": "text/x-python",
   "name": "python",
   "nbconvert_exporter": "python",
   "pygments_lexer": "ipython3",
   "version": "3.7.3"
  }
 },
 "nbformat": 4,
 "nbformat_minor": 5
}
