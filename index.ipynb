{
 "cells": [
  {
   "cell_type": "code",
   "execution_count": 115,
   "id": "excessive-department",
   "metadata": {},
   "outputs": [],
   "source": [
    "import dokitheme as dt"
   ]
  },
  {
   "cell_type": "code",
   "execution_count": 116,
   "id": "injured-desperate",
   "metadata": {
    "scrolled": false
   },
   "outputs": [
    {
     "name": "stdout",
     "output_type": "stream",
     "text": [
      "usage: dokitheme [-h] [-l] [-t theme] [-f] [-uf] [-u]\r\n",
      "\r\n",
      "optional arguments:\r\n",
      "  -h, --help            show this help message and exit\r\n",
      "  -l, --list            list available themes\r\n",
      "  -t theme, --set-theme theme\r\n",
      "                        name of theme to install\r\n",
      "  -f, --set-font        install official doki theme font\r\n",
      "  -uf, -rf, --remove-font, --uninstall-font\r\n",
      "                        uninstalls official doki theme font\r\n",
      "  -u, -r, --remove, --uninstall\r\n",
      "                        restores previous styling\r\n"
     ]
    }
   ],
   "source": [
    "!python3 dokitheme --help"
   ]
  },
  {
   "cell_type": "code",
   "execution_count": 117,
   "id": "municipal-combining",
   "metadata": {
    "scrolled": true
   },
   "outputs": [
    {
     "name": "stdout",
     "output_type": "stream",
     "text": [
      "Theme Names (include double quotes): \r\n",
      "   \"BunnySenpai: Mai Dark\"\r\n",
      "   \"BunnySenpai: Mai Light\"\r\n",
      "   \"DR: Mioda Ibuki Dark\"\r\n",
      "   \"DR: Mioda Ibuki Light\"\r\n",
      "   \"DM: Kanna\"\r\n",
      "   \"EVA: Katsuragi Misato\"\r\n",
      "   \"Fate: Ishtar Dark\"\r\n",
      "   \"Fate: Ishtar Light\"\r\n",
      "   \"Fate: Tohsaka Rin\"\r\n",
      "   \"Franxx: Zero Two Dark\"\r\n",
      "   \"Franxx: Zero Two Light\"\r\n",
      "   \"Gate: Rory Mercury\"\r\n",
      "   \"DxD: Rias\"\r\n",
      "   \"KillLaKill: Ryuko\"\r\n",
      "   \"KillLaKill: Satsuki\"\r\n",
      "   \"KonoSuba: Aqua\"\r\n",
      "   \"KonoSuba: Darkness Dark\"\r\n",
      "   \"KonoSuba: Darkness Light\"\r\n",
      "   \"KonoSuba: Megumin\"\r\n",
      "   \"DDLC: Monika Dark\"\r\n",
      "   \"DDLC: Monika Light\"\r\n",
      "   \"DDLC: Natsuki Dark\"\r\n",
      "   \"DDLC: Natsuki Light\"\r\n",
      "   \"DDLC: Sayori Dark\"\r\n",
      "   \"DDLC: Sayori Light\"\r\n",
      "   \"DDLC: Yuri Dark\"\r\n",
      "   \"DDLC: Yuri Light\"\r\n",
      "   \"Love Live: Sonoda Umi\"\r\n",
      "   \"LS: Konata\"\r\n",
      "   \"Misc: Hatsune Miku\"\r\n",
      "   \"OreGairu: Yukinoshita Yukino\"\r\n",
      "   \"Re:Zero: Beatrice\"\r\n",
      "   \"Re:Zero: Echidna\"\r\n",
      "   \"Re:Zero: Emilia Dark\"\r\n",
      "   \"Re:Zero: Emilia Light\"\r\n",
      "   \"Re:Zero: Ram\"\r\n",
      "   \"Re:Zero: Rem\"\r\n",
      "   \"Steins Gate: Makise Kurisu\"\r\n",
      "   \"SAO: Asuna Dark\"\r\n",
      "   \"SAO: Asuna Light\"\r\n"
     ]
    }
   ],
   "source": [
    "!python3 dokitheme --list"
   ]
  },
  {
   "cell_type": "code",
   "execution_count": 2,
   "id": "productive-water",
   "metadata": {},
   "outputs": [
    {
     "name": "stdout",
     "output_type": "stream",
     "text": [
      "Removed themes, see you later friend!\r\n",
      "Refresh your browser to see changes.\r\n"
     ]
    }
   ],
   "source": [
    "!python3 dokitheme --remove"
   ]
  },
  {
   "cell_type": "code",
   "execution_count": 123,
   "id": "academic-export",
   "metadata": {},
   "outputs": [
    {
     "name": "stdout",
     "output_type": "stream",
     "text": [
      "Unknown Theme \"Ryuko\", did you mean \"KillLaKill: Ryuko\" ?\r\n"
     ]
    }
   ],
   "source": [
    "!python3 dokitheme --set-theme \"Ryuko\""
   ]
  },
  {
   "cell_type": "code",
   "execution_count": 154,
   "id": "stylish-surge",
   "metadata": {},
   "outputs": [
    {
     "name": "stdout",
     "output_type": "stream",
     "text": [
      "Unknown Theme \"Rem\", did you mean \"Re:Zero: Rem\" ?\r\n"
     ]
    }
   ],
   "source": [
    "!python3 dokitheme --set-theme \"Rem\""
   ]
  },
  {
   "cell_type": "code",
   "execution_count": 5,
   "id": "early-stack",
   "metadata": {},
   "outputs": [
    {
     "name": "stdout",
     "output_type": "stream",
     "text": [
      "I installed \"Re:Zero: Rem\" refresh your browser to see changes!\r\n"
     ]
    }
   ],
   "source": [
    "!python3 dokitheme --set-theme \"Re:Zero: Rem\""
   ]
  },
  {
   "cell_type": "code",
   "execution_count": 9,
   "id": "informed-struggle",
   "metadata": {},
   "outputs": [
    {
     "name": "stdout",
     "output_type": "stream",
     "text": [
      "Traceback (most recent call last):\r\n",
      "  File \"/home/alex/miniconda3/lib/python3.7/runpy.py\", line 193, in _run_module_as_main\r\n",
      "    \"__main__\", mod_spec)\r\n",
      "  File \"/home/alex/miniconda3/lib/python3.7/runpy.py\", line 85, in _run_code\r\n",
      "    exec(code, run_globals)\r\n",
      "  File \"dokitheme/__main__.py\", line 13, in <module>\r\n",
      "    exit(theme_manager.install_theme(arguments.set_theme))\r\n",
      "  File \"dokitheme/theme_manager.py\", line 34, in install_theme\r\n",
      "    install_theme_styles(themes[theme_parameter])\r\n",
      "  File \"dokitheme/theme_installer.py\", line 35, in install_theme_styles\r\n",
      "    install_theme(theme_id)\r\n",
      "  File \"dokitheme/theme_installer.py\", line 28, in install_theme\r\n",
      "    css_string = create_theme_styles(theme_definition['id'])\r\n",
      "  File \"dokitheme/theme_installer.py\", line 24, in create_theme_styles\r\n",
      "    return lesscpy.compile(evaluated_less_file) + '\\n\\n'\r\n",
      "  File \"/home/alex/miniconda3/lib/python3.7/site-packages/lesscpy/__init__.py\", line 18, in compile\r\n",
      "    p.parse(file=file)\r\n",
      "  File \"/home/alex/miniconda3/lib/python3.7/site-packages/lesscpy/lessc/parser.py\", line 155, in parse\r\n",
      "    self.register.close()\r\n",
      "  File \"/home/alex/miniconda3/lib/python3.7/site-packages/lesscpy/lessc/parser.py\", line 46, in __close__\r\n",
      "    raise CompilationError(\"\\n\".join(self.errors))\r\n",
      "lesscpy.exceptions.CompilationError: E: (stream) line: 10, Syntax Error, token: `css_id`, `#a32f345a`\r\n",
      "E: line: 0: Unknown variable @info-foreground\r\n",
      "\r\n",
      "E: line: 0: Unknown variable @highlight-color\r\n",
      "\r\n",
      "E: line: 0: Unknown variable @button-font\r\n",
      "\r\n",
      "E: line: 0: Unknown variable @button-color\r\n",
      "\r\n",
      "E: line: 0: Unknown variable @highlight-color\r\n",
      "\r\n",
      "E: line: 0: Unknown variable @button-font\r\n",
      "\r\n"
     ]
    }
   ],
   "source": [
    "!python3 dokitheme --set-theme \"KillLaKill: Ryuko\""
   ]
  },
  {
   "cell_type": "code",
   "execution_count": null,
   "id": "eight-chase",
   "metadata": {},
   "outputs": [],
   "source": []
  }
 ],
 "metadata": {
  "kernelspec": {
   "display_name": "Python 3",
   "language": "python",
   "name": "python3"
  },
  "language_info": {
   "codemirror_mode": {
    "name": "ipython",
    "version": 3
   },
   "file_extension": ".py",
   "mimetype": "text/x-python",
   "name": "python",
   "nbconvert_exporter": "python",
   "pygments_lexer": "ipython3",
   "version": "3.7.3"
  }
 },
 "nbformat": 4,
 "nbformat_minor": 5
}
